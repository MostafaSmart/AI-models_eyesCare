{
  "nbformat": 4,
  "nbformat_minor": 0,
  "metadata": {
    "colab": {
      "provenance": [],
      "gpuType": "V28"
    },
    "kernelspec": {
      "name": "python3",
      "display_name": "Python 3"
    },
    "language_info": {
      "name": "python"
    },
    "accelerator": "TPU",
    "widgets": {
      "application/vnd.jupyter.widget-state+json": {
        "244728e335f94b70aea5e3eb1b6b6808": {
          "model_module": "@jupyter-widgets/controls",
          "model_name": "HBoxModel",
          "model_module_version": "1.5.0",
          "state": {
            "_dom_classes": [],
            "_model_module": "@jupyter-widgets/controls",
            "_model_module_version": "1.5.0",
            "_model_name": "HBoxModel",
            "_view_count": null,
            "_view_module": "@jupyter-widgets/controls",
            "_view_module_version": "1.5.0",
            "_view_name": "HBoxView",
            "box_style": "",
            "children": [
              "IPY_MODEL_318837c1ae1d4eb19b8e979b7dd18766",
              "IPY_MODEL_76d386355b4e4636bcbf03ade65d54e1",
              "IPY_MODEL_4460a388e0074dea973f415ae4c63631"
            ],
            "layout": "IPY_MODEL_cec593e692474708866bcb72ba23554f"
          }
        },
        "318837c1ae1d4eb19b8e979b7dd18766": {
          "model_module": "@jupyter-widgets/controls",
          "model_name": "HTMLModel",
          "model_module_version": "1.5.0",
          "state": {
            "_dom_classes": [],
            "_model_module": "@jupyter-widgets/controls",
            "_model_module_version": "1.5.0",
            "_model_name": "HTMLModel",
            "_view_count": null,
            "_view_module": "@jupyter-widgets/controls",
            "_view_module_version": "1.5.0",
            "_view_name": "HTMLView",
            "description": "",
            "description_tooltip": null,
            "layout": "IPY_MODEL_3a06db37c3694714b85d0b558d184f7c",
            "placeholder": "​",
            "style": "IPY_MODEL_20659be997ec4425a9a02ea15110f0d9",
            "value": "Downloading readme: 100%"
          }
        },
        "76d386355b4e4636bcbf03ade65d54e1": {
          "model_module": "@jupyter-widgets/controls",
          "model_name": "FloatProgressModel",
          "model_module_version": "1.5.0",
          "state": {
            "_dom_classes": [],
            "_model_module": "@jupyter-widgets/controls",
            "_model_module_version": "1.5.0",
            "_model_name": "FloatProgressModel",
            "_view_count": null,
            "_view_module": "@jupyter-widgets/controls",
            "_view_module_version": "1.5.0",
            "_view_name": "ProgressView",
            "bar_style": "success",
            "description": "",
            "description_tooltip": null,
            "layout": "IPY_MODEL_033b47461135400f8feaac12020b78ac",
            "max": 469,
            "min": 0,
            "orientation": "horizontal",
            "style": "IPY_MODEL_d3f9bfccba4d4c54b8ee26c7bb86a5de",
            "value": 469
          }
        },
        "4460a388e0074dea973f415ae4c63631": {
          "model_module": "@jupyter-widgets/controls",
          "model_name": "HTMLModel",
          "model_module_version": "1.5.0",
          "state": {
            "_dom_classes": [],
            "_model_module": "@jupyter-widgets/controls",
            "_model_module_version": "1.5.0",
            "_model_name": "HTMLModel",
            "_view_count": null,
            "_view_module": "@jupyter-widgets/controls",
            "_view_module_version": "1.5.0",
            "_view_name": "HTMLView",
            "description": "",
            "description_tooltip": null,
            "layout": "IPY_MODEL_1e94578b7d724811aeafdb9b478ea299",
            "placeholder": "​",
            "style": "IPY_MODEL_aa39688cda314a78994bc62e33dbb45e",
            "value": " 469/469 [00:00&lt;00:00, 8.11kB/s]"
          }
        },
        "cec593e692474708866bcb72ba23554f": {
          "model_module": "@jupyter-widgets/base",
          "model_name": "LayoutModel",
          "model_module_version": "1.2.0",
          "state": {
            "_model_module": "@jupyter-widgets/base",
            "_model_module_version": "1.2.0",
            "_model_name": "LayoutModel",
            "_view_count": null,
            "_view_module": "@jupyter-widgets/base",
            "_view_module_version": "1.2.0",
            "_view_name": "LayoutView",
            "align_content": null,
            "align_items": null,
            "align_self": null,
            "border": null,
            "bottom": null,
            "display": null,
            "flex": null,
            "flex_flow": null,
            "grid_area": null,
            "grid_auto_columns": null,
            "grid_auto_flow": null,
            "grid_auto_rows": null,
            "grid_column": null,
            "grid_gap": null,
            "grid_row": null,
            "grid_template_areas": null,
            "grid_template_columns": null,
            "grid_template_rows": null,
            "height": null,
            "justify_content": null,
            "justify_items": null,
            "left": null,
            "margin": null,
            "max_height": null,
            "max_width": null,
            "min_height": null,
            "min_width": null,
            "object_fit": null,
            "object_position": null,
            "order": null,
            "overflow": null,
            "overflow_x": null,
            "overflow_y": null,
            "padding": null,
            "right": null,
            "top": null,
            "visibility": null,
            "width": null
          }
        },
        "3a06db37c3694714b85d0b558d184f7c": {
          "model_module": "@jupyter-widgets/base",
          "model_name": "LayoutModel",
          "model_module_version": "1.2.0",
          "state": {
            "_model_module": "@jupyter-widgets/base",
            "_model_module_version": "1.2.0",
            "_model_name": "LayoutModel",
            "_view_count": null,
            "_view_module": "@jupyter-widgets/base",
            "_view_module_version": "1.2.0",
            "_view_name": "LayoutView",
            "align_content": null,
            "align_items": null,
            "align_self": null,
            "border": null,
            "bottom": null,
            "display": null,
            "flex": null,
            "flex_flow": null,
            "grid_area": null,
            "grid_auto_columns": null,
            "grid_auto_flow": null,
            "grid_auto_rows": null,
            "grid_column": null,
            "grid_gap": null,
            "grid_row": null,
            "grid_template_areas": null,
            "grid_template_columns": null,
            "grid_template_rows": null,
            "height": null,
            "justify_content": null,
            "justify_items": null,
            "left": null,
            "margin": null,
            "max_height": null,
            "max_width": null,
            "min_height": null,
            "min_width": null,
            "object_fit": null,
            "object_position": null,
            "order": null,
            "overflow": null,
            "overflow_x": null,
            "overflow_y": null,
            "padding": null,
            "right": null,
            "top": null,
            "visibility": null,
            "width": null
          }
        },
        "20659be997ec4425a9a02ea15110f0d9": {
          "model_module": "@jupyter-widgets/controls",
          "model_name": "DescriptionStyleModel",
          "model_module_version": "1.5.0",
          "state": {
            "_model_module": "@jupyter-widgets/controls",
            "_model_module_version": "1.5.0",
            "_model_name": "DescriptionStyleModel",
            "_view_count": null,
            "_view_module": "@jupyter-widgets/base",
            "_view_module_version": "1.2.0",
            "_view_name": "StyleView",
            "description_width": ""
          }
        },
        "033b47461135400f8feaac12020b78ac": {
          "model_module": "@jupyter-widgets/base",
          "model_name": "LayoutModel",
          "model_module_version": "1.2.0",
          "state": {
            "_model_module": "@jupyter-widgets/base",
            "_model_module_version": "1.2.0",
            "_model_name": "LayoutModel",
            "_view_count": null,
            "_view_module": "@jupyter-widgets/base",
            "_view_module_version": "1.2.0",
            "_view_name": "LayoutView",
            "align_content": null,
            "align_items": null,
            "align_self": null,
            "border": null,
            "bottom": null,
            "display": null,
            "flex": null,
            "flex_flow": null,
            "grid_area": null,
            "grid_auto_columns": null,
            "grid_auto_flow": null,
            "grid_auto_rows": null,
            "grid_column": null,
            "grid_gap": null,
            "grid_row": null,
            "grid_template_areas": null,
            "grid_template_columns": null,
            "grid_template_rows": null,
            "height": null,
            "justify_content": null,
            "justify_items": null,
            "left": null,
            "margin": null,
            "max_height": null,
            "max_width": null,
            "min_height": null,
            "min_width": null,
            "object_fit": null,
            "object_position": null,
            "order": null,
            "overflow": null,
            "overflow_x": null,
            "overflow_y": null,
            "padding": null,
            "right": null,
            "top": null,
            "visibility": null,
            "width": null
          }
        },
        "d3f9bfccba4d4c54b8ee26c7bb86a5de": {
          "model_module": "@jupyter-widgets/controls",
          "model_name": "ProgressStyleModel",
          "model_module_version": "1.5.0",
          "state": {
            "_model_module": "@jupyter-widgets/controls",
            "_model_module_version": "1.5.0",
            "_model_name": "ProgressStyleModel",
            "_view_count": null,
            "_view_module": "@jupyter-widgets/base",
            "_view_module_version": "1.2.0",
            "_view_name": "StyleView",
            "bar_color": null,
            "description_width": ""
          }
        },
        "1e94578b7d724811aeafdb9b478ea299": {
          "model_module": "@jupyter-widgets/base",
          "model_name": "LayoutModel",
          "model_module_version": "1.2.0",
          "state": {
            "_model_module": "@jupyter-widgets/base",
            "_model_module_version": "1.2.0",
            "_model_name": "LayoutModel",
            "_view_count": null,
            "_view_module": "@jupyter-widgets/base",
            "_view_module_version": "1.2.0",
            "_view_name": "LayoutView",
            "align_content": null,
            "align_items": null,
            "align_self": null,
            "border": null,
            "bottom": null,
            "display": null,
            "flex": null,
            "flex_flow": null,
            "grid_area": null,
            "grid_auto_columns": null,
            "grid_auto_flow": null,
            "grid_auto_rows": null,
            "grid_column": null,
            "grid_gap": null,
            "grid_row": null,
            "grid_template_areas": null,
            "grid_template_columns": null,
            "grid_template_rows": null,
            "height": null,
            "justify_content": null,
            "justify_items": null,
            "left": null,
            "margin": null,
            "max_height": null,
            "max_width": null,
            "min_height": null,
            "min_width": null,
            "object_fit": null,
            "object_position": null,
            "order": null,
            "overflow": null,
            "overflow_x": null,
            "overflow_y": null,
            "padding": null,
            "right": null,
            "top": null,
            "visibility": null,
            "width": null
          }
        },
        "aa39688cda314a78994bc62e33dbb45e": {
          "model_module": "@jupyter-widgets/controls",
          "model_name": "DescriptionStyleModel",
          "model_module_version": "1.5.0",
          "state": {
            "_model_module": "@jupyter-widgets/controls",
            "_model_module_version": "1.5.0",
            "_model_name": "DescriptionStyleModel",
            "_view_count": null,
            "_view_module": "@jupyter-widgets/base",
            "_view_module_version": "1.2.0",
            "_view_name": "StyleView",
            "description_width": ""
          }
        },
        "14ebf7ffffc1456ca97e9309d87c1de4": {
          "model_module": "@jupyter-widgets/controls",
          "model_name": "HBoxModel",
          "model_module_version": "1.5.0",
          "state": {
            "_dom_classes": [],
            "_model_module": "@jupyter-widgets/controls",
            "_model_module_version": "1.5.0",
            "_model_name": "HBoxModel",
            "_view_count": null,
            "_view_module": "@jupyter-widgets/controls",
            "_view_module_version": "1.5.0",
            "_view_name": "HBoxView",
            "box_style": "",
            "children": [
              "IPY_MODEL_710f81f4784b4ea2b0ffc36300d1505c",
              "IPY_MODEL_c1bf1d0b260f46a1b00da781e74fe64f",
              "IPY_MODEL_83aad4edbcd84c8095bf74d78cac33e3"
            ],
            "layout": "IPY_MODEL_f7d927ea401940a2bc1b7b90ff4c0bbe"
          }
        },
        "710f81f4784b4ea2b0ffc36300d1505c": {
          "model_module": "@jupyter-widgets/controls",
          "model_name": "HTMLModel",
          "model_module_version": "1.5.0",
          "state": {
            "_dom_classes": [],
            "_model_module": "@jupyter-widgets/controls",
            "_model_module_version": "1.5.0",
            "_model_name": "HTMLModel",
            "_view_count": null,
            "_view_module": "@jupyter-widgets/controls",
            "_view_module_version": "1.5.0",
            "_view_name": "HTMLView",
            "description": "",
            "description_tooltip": null,
            "layout": "IPY_MODEL_41e87876083648a984878defa33dfebb",
            "placeholder": "​",
            "style": "IPY_MODEL_6128b40855c2411f849161b17b581b33",
            "value": "Downloading data: 100%"
          }
        },
        "c1bf1d0b260f46a1b00da781e74fe64f": {
          "model_module": "@jupyter-widgets/controls",
          "model_name": "FloatProgressModel",
          "model_module_version": "1.5.0",
          "state": {
            "_dom_classes": [],
            "_model_module": "@jupyter-widgets/controls",
            "_model_module_version": "1.5.0",
            "_model_name": "FloatProgressModel",
            "_view_count": null,
            "_view_module": "@jupyter-widgets/controls",
            "_view_module_version": "1.5.0",
            "_view_name": "ProgressView",
            "bar_style": "success",
            "description": "",
            "description_tooltip": null,
            "layout": "IPY_MODEL_c05d88f5317741a9b8dc2ec2b4b5c89f",
            "max": 255696491,
            "min": 0,
            "orientation": "horizontal",
            "style": "IPY_MODEL_cfaa9f28d98a42819c26535402e61c4a",
            "value": 255696491
          }
        },
        "83aad4edbcd84c8095bf74d78cac33e3": {
          "model_module": "@jupyter-widgets/controls",
          "model_name": "HTMLModel",
          "model_module_version": "1.5.0",
          "state": {
            "_dom_classes": [],
            "_model_module": "@jupyter-widgets/controls",
            "_model_module_version": "1.5.0",
            "_model_name": "HTMLModel",
            "_view_count": null,
            "_view_module": "@jupyter-widgets/controls",
            "_view_module_version": "1.5.0",
            "_view_name": "HTMLView",
            "description": "",
            "description_tooltip": null,
            "layout": "IPY_MODEL_a61f68df032e49f388e2ce719ef54691",
            "placeholder": "​",
            "style": "IPY_MODEL_fcf59a48abac466b9714d9b75a464128",
            "value": " 256M/256M [00:02&lt;00:00, 154MB/s]"
          }
        },
        "f7d927ea401940a2bc1b7b90ff4c0bbe": {
          "model_module": "@jupyter-widgets/base",
          "model_name": "LayoutModel",
          "model_module_version": "1.2.0",
          "state": {
            "_model_module": "@jupyter-widgets/base",
            "_model_module_version": "1.2.0",
            "_model_name": "LayoutModel",
            "_view_count": null,
            "_view_module": "@jupyter-widgets/base",
            "_view_module_version": "1.2.0",
            "_view_name": "LayoutView",
            "align_content": null,
            "align_items": null,
            "align_self": null,
            "border": null,
            "bottom": null,
            "display": null,
            "flex": null,
            "flex_flow": null,
            "grid_area": null,
            "grid_auto_columns": null,
            "grid_auto_flow": null,
            "grid_auto_rows": null,
            "grid_column": null,
            "grid_gap": null,
            "grid_row": null,
            "grid_template_areas": null,
            "grid_template_columns": null,
            "grid_template_rows": null,
            "height": null,
            "justify_content": null,
            "justify_items": null,
            "left": null,
            "margin": null,
            "max_height": null,
            "max_width": null,
            "min_height": null,
            "min_width": null,
            "object_fit": null,
            "object_position": null,
            "order": null,
            "overflow": null,
            "overflow_x": null,
            "overflow_y": null,
            "padding": null,
            "right": null,
            "top": null,
            "visibility": null,
            "width": null
          }
        },
        "41e87876083648a984878defa33dfebb": {
          "model_module": "@jupyter-widgets/base",
          "model_name": "LayoutModel",
          "model_module_version": "1.2.0",
          "state": {
            "_model_module": "@jupyter-widgets/base",
            "_model_module_version": "1.2.0",
            "_model_name": "LayoutModel",
            "_view_count": null,
            "_view_module": "@jupyter-widgets/base",
            "_view_module_version": "1.2.0",
            "_view_name": "LayoutView",
            "align_content": null,
            "align_items": null,
            "align_self": null,
            "border": null,
            "bottom": null,
            "display": null,
            "flex": null,
            "flex_flow": null,
            "grid_area": null,
            "grid_auto_columns": null,
            "grid_auto_flow": null,
            "grid_auto_rows": null,
            "grid_column": null,
            "grid_gap": null,
            "grid_row": null,
            "grid_template_areas": null,
            "grid_template_columns": null,
            "grid_template_rows": null,
            "height": null,
            "justify_content": null,
            "justify_items": null,
            "left": null,
            "margin": null,
            "max_height": null,
            "max_width": null,
            "min_height": null,
            "min_width": null,
            "object_fit": null,
            "object_position": null,
            "order": null,
            "overflow": null,
            "overflow_x": null,
            "overflow_y": null,
            "padding": null,
            "right": null,
            "top": null,
            "visibility": null,
            "width": null
          }
        },
        "6128b40855c2411f849161b17b581b33": {
          "model_module": "@jupyter-widgets/controls",
          "model_name": "DescriptionStyleModel",
          "model_module_version": "1.5.0",
          "state": {
            "_model_module": "@jupyter-widgets/controls",
            "_model_module_version": "1.5.0",
            "_model_name": "DescriptionStyleModel",
            "_view_count": null,
            "_view_module": "@jupyter-widgets/base",
            "_view_module_version": "1.2.0",
            "_view_name": "StyleView",
            "description_width": ""
          }
        },
        "c05d88f5317741a9b8dc2ec2b4b5c89f": {
          "model_module": "@jupyter-widgets/base",
          "model_name": "LayoutModel",
          "model_module_version": "1.2.0",
          "state": {
            "_model_module": "@jupyter-widgets/base",
            "_model_module_version": "1.2.0",
            "_model_name": "LayoutModel",
            "_view_count": null,
            "_view_module": "@jupyter-widgets/base",
            "_view_module_version": "1.2.0",
            "_view_name": "LayoutView",
            "align_content": null,
            "align_items": null,
            "align_self": null,
            "border": null,
            "bottom": null,
            "display": null,
            "flex": null,
            "flex_flow": null,
            "grid_area": null,
            "grid_auto_columns": null,
            "grid_auto_flow": null,
            "grid_auto_rows": null,
            "grid_column": null,
            "grid_gap": null,
            "grid_row": null,
            "grid_template_areas": null,
            "grid_template_columns": null,
            "grid_template_rows": null,
            "height": null,
            "justify_content": null,
            "justify_items": null,
            "left": null,
            "margin": null,
            "max_height": null,
            "max_width": null,
            "min_height": null,
            "min_width": null,
            "object_fit": null,
            "object_position": null,
            "order": null,
            "overflow": null,
            "overflow_x": null,
            "overflow_y": null,
            "padding": null,
            "right": null,
            "top": null,
            "visibility": null,
            "width": null
          }
        },
        "cfaa9f28d98a42819c26535402e61c4a": {
          "model_module": "@jupyter-widgets/controls",
          "model_name": "ProgressStyleModel",
          "model_module_version": "1.5.0",
          "state": {
            "_model_module": "@jupyter-widgets/controls",
            "_model_module_version": "1.5.0",
            "_model_name": "ProgressStyleModel",
            "_view_count": null,
            "_view_module": "@jupyter-widgets/base",
            "_view_module_version": "1.2.0",
            "_view_name": "StyleView",
            "bar_color": null,
            "description_width": ""
          }
        },
        "a61f68df032e49f388e2ce719ef54691": {
          "model_module": "@jupyter-widgets/base",
          "model_name": "LayoutModel",
          "model_module_version": "1.2.0",
          "state": {
            "_model_module": "@jupyter-widgets/base",
            "_model_module_version": "1.2.0",
            "_model_name": "LayoutModel",
            "_view_count": null,
            "_view_module": "@jupyter-widgets/base",
            "_view_module_version": "1.2.0",
            "_view_name": "LayoutView",
            "align_content": null,
            "align_items": null,
            "align_self": null,
            "border": null,
            "bottom": null,
            "display": null,
            "flex": null,
            "flex_flow": null,
            "grid_area": null,
            "grid_auto_columns": null,
            "grid_auto_flow": null,
            "grid_auto_rows": null,
            "grid_column": null,
            "grid_gap": null,
            "grid_row": null,
            "grid_template_areas": null,
            "grid_template_columns": null,
            "grid_template_rows": null,
            "height": null,
            "justify_content": null,
            "justify_items": null,
            "left": null,
            "margin": null,
            "max_height": null,
            "max_width": null,
            "min_height": null,
            "min_width": null,
            "object_fit": null,
            "object_position": null,
            "order": null,
            "overflow": null,
            "overflow_x": null,
            "overflow_y": null,
            "padding": null,
            "right": null,
            "top": null,
            "visibility": null,
            "width": null
          }
        },
        "fcf59a48abac466b9714d9b75a464128": {
          "model_module": "@jupyter-widgets/controls",
          "model_name": "DescriptionStyleModel",
          "model_module_version": "1.5.0",
          "state": {
            "_model_module": "@jupyter-widgets/controls",
            "_model_module_version": "1.5.0",
            "_model_name": "DescriptionStyleModel",
            "_view_count": null,
            "_view_module": "@jupyter-widgets/base",
            "_view_module_version": "1.2.0",
            "_view_name": "StyleView",
            "description_width": ""
          }
        },
        "11315f1035764121adc2ac92a98c7172": {
          "model_module": "@jupyter-widgets/controls",
          "model_name": "HBoxModel",
          "model_module_version": "1.5.0",
          "state": {
            "_dom_classes": [],
            "_model_module": "@jupyter-widgets/controls",
            "_model_module_version": "1.5.0",
            "_model_name": "HBoxModel",
            "_view_count": null,
            "_view_module": "@jupyter-widgets/controls",
            "_view_module_version": "1.5.0",
            "_view_name": "HBoxView",
            "box_style": "",
            "children": [
              "IPY_MODEL_b09a857904674229a53a387738a0a887",
              "IPY_MODEL_2bad9f8ad0d64a1b8b54e154195a6acd",
              "IPY_MODEL_b82d7819d2614390b026fb2c00bdf069"
            ],
            "layout": "IPY_MODEL_2e47aaa718434dbc875ef16e173eb496"
          }
        },
        "b09a857904674229a53a387738a0a887": {
          "model_module": "@jupyter-widgets/controls",
          "model_name": "HTMLModel",
          "model_module_version": "1.5.0",
          "state": {
            "_dom_classes": [],
            "_model_module": "@jupyter-widgets/controls",
            "_model_module_version": "1.5.0",
            "_model_name": "HTMLModel",
            "_view_count": null,
            "_view_module": "@jupyter-widgets/controls",
            "_view_module_version": "1.5.0",
            "_view_name": "HTMLView",
            "description": "",
            "description_tooltip": null,
            "layout": "IPY_MODEL_f392c7a57f3e4a9980eb1a0ba25a1ea5",
            "placeholder": "​",
            "style": "IPY_MODEL_2cd52250df804a909d2bb779cad8bae9",
            "value": "Downloading data: 100%"
          }
        },
        "2bad9f8ad0d64a1b8b54e154195a6acd": {
          "model_module": "@jupyter-widgets/controls",
          "model_name": "FloatProgressModel",
          "model_module_version": "1.5.0",
          "state": {
            "_dom_classes": [],
            "_model_module": "@jupyter-widgets/controls",
            "_model_module_version": "1.5.0",
            "_model_name": "FloatProgressModel",
            "_view_count": null,
            "_view_module": "@jupyter-widgets/controls",
            "_view_module_version": "1.5.0",
            "_view_name": "ProgressView",
            "bar_style": "success",
            "description": "",
            "description_tooltip": null,
            "layout": "IPY_MODEL_7ed8bd8f02b34367ad7b31a805791b67",
            "max": 253677276,
            "min": 0,
            "orientation": "horizontal",
            "style": "IPY_MODEL_1e47e27b7ba446a785ca394e823b8f14",
            "value": 253677276
          }
        },
        "b82d7819d2614390b026fb2c00bdf069": {
          "model_module": "@jupyter-widgets/controls",
          "model_name": "HTMLModel",
          "model_module_version": "1.5.0",
          "state": {
            "_dom_classes": [],
            "_model_module": "@jupyter-widgets/controls",
            "_model_module_version": "1.5.0",
            "_model_name": "HTMLModel",
            "_view_count": null,
            "_view_module": "@jupyter-widgets/controls",
            "_view_module_version": "1.5.0",
            "_view_name": "HTMLView",
            "description": "",
            "description_tooltip": null,
            "layout": "IPY_MODEL_48afc4a483dc414ba3024587c1c1ffef",
            "placeholder": "​",
            "style": "IPY_MODEL_087c2f0f8e6d49f3b4a84b3a4876a1dc",
            "value": " 254M/254M [00:02&lt;00:00, 151MB/s]"
          }
        },
        "2e47aaa718434dbc875ef16e173eb496": {
          "model_module": "@jupyter-widgets/base",
          "model_name": "LayoutModel",
          "model_module_version": "1.2.0",
          "state": {
            "_model_module": "@jupyter-widgets/base",
            "_model_module_version": "1.2.0",
            "_model_name": "LayoutModel",
            "_view_count": null,
            "_view_module": "@jupyter-widgets/base",
            "_view_module_version": "1.2.0",
            "_view_name": "LayoutView",
            "align_content": null,
            "align_items": null,
            "align_self": null,
            "border": null,
            "bottom": null,
            "display": null,
            "flex": null,
            "flex_flow": null,
            "grid_area": null,
            "grid_auto_columns": null,
            "grid_auto_flow": null,
            "grid_auto_rows": null,
            "grid_column": null,
            "grid_gap": null,
            "grid_row": null,
            "grid_template_areas": null,
            "grid_template_columns": null,
            "grid_template_rows": null,
            "height": null,
            "justify_content": null,
            "justify_items": null,
            "left": null,
            "margin": null,
            "max_height": null,
            "max_width": null,
            "min_height": null,
            "min_width": null,
            "object_fit": null,
            "object_position": null,
            "order": null,
            "overflow": null,
            "overflow_x": null,
            "overflow_y": null,
            "padding": null,
            "right": null,
            "top": null,
            "visibility": null,
            "width": null
          }
        },
        "f392c7a57f3e4a9980eb1a0ba25a1ea5": {
          "model_module": "@jupyter-widgets/base",
          "model_name": "LayoutModel",
          "model_module_version": "1.2.0",
          "state": {
            "_model_module": "@jupyter-widgets/base",
            "_model_module_version": "1.2.0",
            "_model_name": "LayoutModel",
            "_view_count": null,
            "_view_module": "@jupyter-widgets/base",
            "_view_module_version": "1.2.0",
            "_view_name": "LayoutView",
            "align_content": null,
            "align_items": null,
            "align_self": null,
            "border": null,
            "bottom": null,
            "display": null,
            "flex": null,
            "flex_flow": null,
            "grid_area": null,
            "grid_auto_columns": null,
            "grid_auto_flow": null,
            "grid_auto_rows": null,
            "grid_column": null,
            "grid_gap": null,
            "grid_row": null,
            "grid_template_areas": null,
            "grid_template_columns": null,
            "grid_template_rows": null,
            "height": null,
            "justify_content": null,
            "justify_items": null,
            "left": null,
            "margin": null,
            "max_height": null,
            "max_width": null,
            "min_height": null,
            "min_width": null,
            "object_fit": null,
            "object_position": null,
            "order": null,
            "overflow": null,
            "overflow_x": null,
            "overflow_y": null,
            "padding": null,
            "right": null,
            "top": null,
            "visibility": null,
            "width": null
          }
        },
        "2cd52250df804a909d2bb779cad8bae9": {
          "model_module": "@jupyter-widgets/controls",
          "model_name": "DescriptionStyleModel",
          "model_module_version": "1.5.0",
          "state": {
            "_model_module": "@jupyter-widgets/controls",
            "_model_module_version": "1.5.0",
            "_model_name": "DescriptionStyleModel",
            "_view_count": null,
            "_view_module": "@jupyter-widgets/base",
            "_view_module_version": "1.2.0",
            "_view_name": "StyleView",
            "description_width": ""
          }
        },
        "7ed8bd8f02b34367ad7b31a805791b67": {
          "model_module": "@jupyter-widgets/base",
          "model_name": "LayoutModel",
          "model_module_version": "1.2.0",
          "state": {
            "_model_module": "@jupyter-widgets/base",
            "_model_module_version": "1.2.0",
            "_model_name": "LayoutModel",
            "_view_count": null,
            "_view_module": "@jupyter-widgets/base",
            "_view_module_version": "1.2.0",
            "_view_name": "LayoutView",
            "align_content": null,
            "align_items": null,
            "align_self": null,
            "border": null,
            "bottom": null,
            "display": null,
            "flex": null,
            "flex_flow": null,
            "grid_area": null,
            "grid_auto_columns": null,
            "grid_auto_flow": null,
            "grid_auto_rows": null,
            "grid_column": null,
            "grid_gap": null,
            "grid_row": null,
            "grid_template_areas": null,
            "grid_template_columns": null,
            "grid_template_rows": null,
            "height": null,
            "justify_content": null,
            "justify_items": null,
            "left": null,
            "margin": null,
            "max_height": null,
            "max_width": null,
            "min_height": null,
            "min_width": null,
            "object_fit": null,
            "object_position": null,
            "order": null,
            "overflow": null,
            "overflow_x": null,
            "overflow_y": null,
            "padding": null,
            "right": null,
            "top": null,
            "visibility": null,
            "width": null
          }
        },
        "1e47e27b7ba446a785ca394e823b8f14": {
          "model_module": "@jupyter-widgets/controls",
          "model_name": "ProgressStyleModel",
          "model_module_version": "1.5.0",
          "state": {
            "_model_module": "@jupyter-widgets/controls",
            "_model_module_version": "1.5.0",
            "_model_name": "ProgressStyleModel",
            "_view_count": null,
            "_view_module": "@jupyter-widgets/base",
            "_view_module_version": "1.2.0",
            "_view_name": "StyleView",
            "bar_color": null,
            "description_width": ""
          }
        },
        "48afc4a483dc414ba3024587c1c1ffef": {
          "model_module": "@jupyter-widgets/base",
          "model_name": "LayoutModel",
          "model_module_version": "1.2.0",
          "state": {
            "_model_module": "@jupyter-widgets/base",
            "_model_module_version": "1.2.0",
            "_model_name": "LayoutModel",
            "_view_count": null,
            "_view_module": "@jupyter-widgets/base",
            "_view_module_version": "1.2.0",
            "_view_name": "LayoutView",
            "align_content": null,
            "align_items": null,
            "align_self": null,
            "border": null,
            "bottom": null,
            "display": null,
            "flex": null,
            "flex_flow": null,
            "grid_area": null,
            "grid_auto_columns": null,
            "grid_auto_flow": null,
            "grid_auto_rows": null,
            "grid_column": null,
            "grid_gap": null,
            "grid_row": null,
            "grid_template_areas": null,
            "grid_template_columns": null,
            "grid_template_rows": null,
            "height": null,
            "justify_content": null,
            "justify_items": null,
            "left": null,
            "margin": null,
            "max_height": null,
            "max_width": null,
            "min_height": null,
            "min_width": null,
            "object_fit": null,
            "object_position": null,
            "order": null,
            "overflow": null,
            "overflow_x": null,
            "overflow_y": null,
            "padding": null,
            "right": null,
            "top": null,
            "visibility": null,
            "width": null
          }
        },
        "087c2f0f8e6d49f3b4a84b3a4876a1dc": {
          "model_module": "@jupyter-widgets/controls",
          "model_name": "DescriptionStyleModel",
          "model_module_version": "1.5.0",
          "state": {
            "_model_module": "@jupyter-widgets/controls",
            "_model_module_version": "1.5.0",
            "_model_name": "DescriptionStyleModel",
            "_view_count": null,
            "_view_module": "@jupyter-widgets/base",
            "_view_module_version": "1.2.0",
            "_view_name": "StyleView",
            "description_width": ""
          }
        },
        "822aadb4ab734541b8a48e71ee8135f2": {
          "model_module": "@jupyter-widgets/controls",
          "model_name": "HBoxModel",
          "model_module_version": "1.5.0",
          "state": {
            "_dom_classes": [],
            "_model_module": "@jupyter-widgets/controls",
            "_model_module_version": "1.5.0",
            "_model_name": "HBoxModel",
            "_view_count": null,
            "_view_module": "@jupyter-widgets/controls",
            "_view_module_version": "1.5.0",
            "_view_name": "HBoxView",
            "box_style": "",
            "children": [
              "IPY_MODEL_1c6f639ea62d402b993c3f9aca3e8f00",
              "IPY_MODEL_3b68f88363b34feb9695b09594b44ff4",
              "IPY_MODEL_babe378bf0994cd0a2f29fc5a57f42a9"
            ],
            "layout": "IPY_MODEL_b2842bd2767e4170bc506c567d1b0584"
          }
        },
        "1c6f639ea62d402b993c3f9aca3e8f00": {
          "model_module": "@jupyter-widgets/controls",
          "model_name": "HTMLModel",
          "model_module_version": "1.5.0",
          "state": {
            "_dom_classes": [],
            "_model_module": "@jupyter-widgets/controls",
            "_model_module_version": "1.5.0",
            "_model_name": "HTMLModel",
            "_view_count": null,
            "_view_module": "@jupyter-widgets/controls",
            "_view_module_version": "1.5.0",
            "_view_name": "HTMLView",
            "description": "",
            "description_tooltip": null,
            "layout": "IPY_MODEL_ec7f9ad7e29d4e86a76275743bc70ab8",
            "placeholder": "​",
            "style": "IPY_MODEL_f25a2ad324fe439cb03db8de4b4911c5",
            "value": "Generating train split: 100%"
          }
        },
        "3b68f88363b34feb9695b09594b44ff4": {
          "model_module": "@jupyter-widgets/controls",
          "model_name": "FloatProgressModel",
          "model_module_version": "1.5.0",
          "state": {
            "_dom_classes": [],
            "_model_module": "@jupyter-widgets/controls",
            "_model_module_version": "1.5.0",
            "_model_name": "FloatProgressModel",
            "_view_count": null,
            "_view_module": "@jupyter-widgets/controls",
            "_view_module_version": "1.5.0",
            "_view_name": "ProgressView",
            "bar_style": "success",
            "description": "",
            "description_tooltip": null,
            "layout": "IPY_MODEL_0217faa058464659bf4b66807547bddd",
            "max": 22971,
            "min": 0,
            "orientation": "horizontal",
            "style": "IPY_MODEL_3643c6835cff4c9fb6e3290f453e457a",
            "value": 22971
          }
        },
        "babe378bf0994cd0a2f29fc5a57f42a9": {
          "model_module": "@jupyter-widgets/controls",
          "model_name": "HTMLModel",
          "model_module_version": "1.5.0",
          "state": {
            "_dom_classes": [],
            "_model_module": "@jupyter-widgets/controls",
            "_model_module_version": "1.5.0",
            "_model_name": "HTMLModel",
            "_view_count": null,
            "_view_module": "@jupyter-widgets/controls",
            "_view_module_version": "1.5.0",
            "_view_name": "HTMLView",
            "description": "",
            "description_tooltip": null,
            "layout": "IPY_MODEL_50cf52deac7d42dfba72a1b59e19d477",
            "placeholder": "​",
            "style": "IPY_MODEL_61ba7b445f3547aaab1ef6c28a367db0",
            "value": " 22971/22971 [00:01&lt;00:00, 22346.67 examples/s]"
          }
        },
        "b2842bd2767e4170bc506c567d1b0584": {
          "model_module": "@jupyter-widgets/base",
          "model_name": "LayoutModel",
          "model_module_version": "1.2.0",
          "state": {
            "_model_module": "@jupyter-widgets/base",
            "_model_module_version": "1.2.0",
            "_model_name": "LayoutModel",
            "_view_count": null,
            "_view_module": "@jupyter-widgets/base",
            "_view_module_version": "1.2.0",
            "_view_name": "LayoutView",
            "align_content": null,
            "align_items": null,
            "align_self": null,
            "border": null,
            "bottom": null,
            "display": null,
            "flex": null,
            "flex_flow": null,
            "grid_area": null,
            "grid_auto_columns": null,
            "grid_auto_flow": null,
            "grid_auto_rows": null,
            "grid_column": null,
            "grid_gap": null,
            "grid_row": null,
            "grid_template_areas": null,
            "grid_template_columns": null,
            "grid_template_rows": null,
            "height": null,
            "justify_content": null,
            "justify_items": null,
            "left": null,
            "margin": null,
            "max_height": null,
            "max_width": null,
            "min_height": null,
            "min_width": null,
            "object_fit": null,
            "object_position": null,
            "order": null,
            "overflow": null,
            "overflow_x": null,
            "overflow_y": null,
            "padding": null,
            "right": null,
            "top": null,
            "visibility": null,
            "width": null
          }
        },
        "ec7f9ad7e29d4e86a76275743bc70ab8": {
          "model_module": "@jupyter-widgets/base",
          "model_name": "LayoutModel",
          "model_module_version": "1.2.0",
          "state": {
            "_model_module": "@jupyter-widgets/base",
            "_model_module_version": "1.2.0",
            "_model_name": "LayoutModel",
            "_view_count": null,
            "_view_module": "@jupyter-widgets/base",
            "_view_module_version": "1.2.0",
            "_view_name": "LayoutView",
            "align_content": null,
            "align_items": null,
            "align_self": null,
            "border": null,
            "bottom": null,
            "display": null,
            "flex": null,
            "flex_flow": null,
            "grid_area": null,
            "grid_auto_columns": null,
            "grid_auto_flow": null,
            "grid_auto_rows": null,
            "grid_column": null,
            "grid_gap": null,
            "grid_row": null,
            "grid_template_areas": null,
            "grid_template_columns": null,
            "grid_template_rows": null,
            "height": null,
            "justify_content": null,
            "justify_items": null,
            "left": null,
            "margin": null,
            "max_height": null,
            "max_width": null,
            "min_height": null,
            "min_width": null,
            "object_fit": null,
            "object_position": null,
            "order": null,
            "overflow": null,
            "overflow_x": null,
            "overflow_y": null,
            "padding": null,
            "right": null,
            "top": null,
            "visibility": null,
            "width": null
          }
        },
        "f25a2ad324fe439cb03db8de4b4911c5": {
          "model_module": "@jupyter-widgets/controls",
          "model_name": "DescriptionStyleModel",
          "model_module_version": "1.5.0",
          "state": {
            "_model_module": "@jupyter-widgets/controls",
            "_model_module_version": "1.5.0",
            "_model_name": "DescriptionStyleModel",
            "_view_count": null,
            "_view_module": "@jupyter-widgets/base",
            "_view_module_version": "1.2.0",
            "_view_name": "StyleView",
            "description_width": ""
          }
        },
        "0217faa058464659bf4b66807547bddd": {
          "model_module": "@jupyter-widgets/base",
          "model_name": "LayoutModel",
          "model_module_version": "1.2.0",
          "state": {
            "_model_module": "@jupyter-widgets/base",
            "_model_module_version": "1.2.0",
            "_model_name": "LayoutModel",
            "_view_count": null,
            "_view_module": "@jupyter-widgets/base",
            "_view_module_version": "1.2.0",
            "_view_name": "LayoutView",
            "align_content": null,
            "align_items": null,
            "align_self": null,
            "border": null,
            "bottom": null,
            "display": null,
            "flex": null,
            "flex_flow": null,
            "grid_area": null,
            "grid_auto_columns": null,
            "grid_auto_flow": null,
            "grid_auto_rows": null,
            "grid_column": null,
            "grid_gap": null,
            "grid_row": null,
            "grid_template_areas": null,
            "grid_template_columns": null,
            "grid_template_rows": null,
            "height": null,
            "justify_content": null,
            "justify_items": null,
            "left": null,
            "margin": null,
            "max_height": null,
            "max_width": null,
            "min_height": null,
            "min_width": null,
            "object_fit": null,
            "object_position": null,
            "order": null,
            "overflow": null,
            "overflow_x": null,
            "overflow_y": null,
            "padding": null,
            "right": null,
            "top": null,
            "visibility": null,
            "width": null
          }
        },
        "3643c6835cff4c9fb6e3290f453e457a": {
          "model_module": "@jupyter-widgets/controls",
          "model_name": "ProgressStyleModel",
          "model_module_version": "1.5.0",
          "state": {
            "_model_module": "@jupyter-widgets/controls",
            "_model_module_version": "1.5.0",
            "_model_name": "ProgressStyleModel",
            "_view_count": null,
            "_view_module": "@jupyter-widgets/base",
            "_view_module_version": "1.2.0",
            "_view_name": "StyleView",
            "bar_color": null,
            "description_width": ""
          }
        },
        "50cf52deac7d42dfba72a1b59e19d477": {
          "model_module": "@jupyter-widgets/base",
          "model_name": "LayoutModel",
          "model_module_version": "1.2.0",
          "state": {
            "_model_module": "@jupyter-widgets/base",
            "_model_module_version": "1.2.0",
            "_model_name": "LayoutModel",
            "_view_count": null,
            "_view_module": "@jupyter-widgets/base",
            "_view_module_version": "1.2.0",
            "_view_name": "LayoutView",
            "align_content": null,
            "align_items": null,
            "align_self": null,
            "border": null,
            "bottom": null,
            "display": null,
            "flex": null,
            "flex_flow": null,
            "grid_area": null,
            "grid_auto_columns": null,
            "grid_auto_flow": null,
            "grid_auto_rows": null,
            "grid_column": null,
            "grid_gap": null,
            "grid_row": null,
            "grid_template_areas": null,
            "grid_template_columns": null,
            "grid_template_rows": null,
            "height": null,
            "justify_content": null,
            "justify_items": null,
            "left": null,
            "margin": null,
            "max_height": null,
            "max_width": null,
            "min_height": null,
            "min_width": null,
            "object_fit": null,
            "object_position": null,
            "order": null,
            "overflow": null,
            "overflow_x": null,
            "overflow_y": null,
            "padding": null,
            "right": null,
            "top": null,
            "visibility": null,
            "width": null
          }
        },
        "61ba7b445f3547aaab1ef6c28a367db0": {
          "model_module": "@jupyter-widgets/controls",
          "model_name": "DescriptionStyleModel",
          "model_module_version": "1.5.0",
          "state": {
            "_model_module": "@jupyter-widgets/controls",
            "_model_module_version": "1.5.0",
            "_model_name": "DescriptionStyleModel",
            "_view_count": null,
            "_view_module": "@jupyter-widgets/base",
            "_view_module_version": "1.2.0",
            "_view_name": "StyleView",
            "description_width": ""
          }
        }
      }
    }
  },
  "cells": [
    {
      "cell_type": "code",
      "execution_count": null,
      "metadata": {
        "id": "VV-nI16_vKWZ"
      },
      "outputs": [],
      "source": [
        "!pip install evaluate accelerate datasets"
      ]
    },
    {
      "cell_type": "code",
      "source": [
        "from datasets import load_dataset\n",
        "\n",
        "dataset = load_dataset(\"smartgmin/orgnalDataEntrnal\",split=\"train\")\n"
      ],
      "metadata": {
        "colab": {
          "base_uri": "https://localhost:8080/",
          "height": 145,
          "referenced_widgets": [
            "244728e335f94b70aea5e3eb1b6b6808",
            "318837c1ae1d4eb19b8e979b7dd18766",
            "76d386355b4e4636bcbf03ade65d54e1",
            "4460a388e0074dea973f415ae4c63631",
            "cec593e692474708866bcb72ba23554f",
            "3a06db37c3694714b85d0b558d184f7c",
            "20659be997ec4425a9a02ea15110f0d9",
            "033b47461135400f8feaac12020b78ac",
            "d3f9bfccba4d4c54b8ee26c7bb86a5de",
            "1e94578b7d724811aeafdb9b478ea299",
            "aa39688cda314a78994bc62e33dbb45e",
            "14ebf7ffffc1456ca97e9309d87c1de4",
            "710f81f4784b4ea2b0ffc36300d1505c",
            "c1bf1d0b260f46a1b00da781e74fe64f",
            "83aad4edbcd84c8095bf74d78cac33e3",
            "f7d927ea401940a2bc1b7b90ff4c0bbe",
            "41e87876083648a984878defa33dfebb",
            "6128b40855c2411f849161b17b581b33",
            "c05d88f5317741a9b8dc2ec2b4b5c89f",
            "cfaa9f28d98a42819c26535402e61c4a",
            "a61f68df032e49f388e2ce719ef54691",
            "fcf59a48abac466b9714d9b75a464128",
            "11315f1035764121adc2ac92a98c7172",
            "b09a857904674229a53a387738a0a887",
            "2bad9f8ad0d64a1b8b54e154195a6acd",
            "b82d7819d2614390b026fb2c00bdf069",
            "2e47aaa718434dbc875ef16e173eb496",
            "f392c7a57f3e4a9980eb1a0ba25a1ea5",
            "2cd52250df804a909d2bb779cad8bae9",
            "7ed8bd8f02b34367ad7b31a805791b67",
            "1e47e27b7ba446a785ca394e823b8f14",
            "48afc4a483dc414ba3024587c1c1ffef",
            "087c2f0f8e6d49f3b4a84b3a4876a1dc",
            "822aadb4ab734541b8a48e71ee8135f2",
            "1c6f639ea62d402b993c3f9aca3e8f00",
            "3b68f88363b34feb9695b09594b44ff4",
            "babe378bf0994cd0a2f29fc5a57f42a9",
            "b2842bd2767e4170bc506c567d1b0584",
            "ec7f9ad7e29d4e86a76275743bc70ab8",
            "f25a2ad324fe439cb03db8de4b4911c5",
            "0217faa058464659bf4b66807547bddd",
            "3643c6835cff4c9fb6e3290f453e457a",
            "50cf52deac7d42dfba72a1b59e19d477",
            "61ba7b445f3547aaab1ef6c28a367db0"
          ]
        },
        "id": "BKwugnS_vOXf",
        "outputId": "6a9d2714-f5ee-4d0f-bc83-591e05bd84e4"
      },
      "execution_count": null,
      "outputs": [
        {
          "output_type": "display_data",
          "data": {
            "text/plain": [
              "Downloading readme:   0%|          | 0.00/469 [00:00<?, ?B/s]"
            ],
            "application/vnd.jupyter.widget-view+json": {
              "version_major": 2,
              "version_minor": 0,
              "model_id": "244728e335f94b70aea5e3eb1b6b6808"
            }
          },
          "metadata": {}
        },
        {
          "output_type": "display_data",
          "data": {
            "text/plain": [
              "Downloading data:   0%|          | 0.00/256M [00:00<?, ?B/s]"
            ],
            "application/vnd.jupyter.widget-view+json": {
              "version_major": 2,
              "version_minor": 0,
              "model_id": "14ebf7ffffc1456ca97e9309d87c1de4"
            }
          },
          "metadata": {}
        },
        {
          "output_type": "display_data",
          "data": {
            "text/plain": [
              "Downloading data:   0%|          | 0.00/254M [00:00<?, ?B/s]"
            ],
            "application/vnd.jupyter.widget-view+json": {
              "version_major": 2,
              "version_minor": 0,
              "model_id": "11315f1035764121adc2ac92a98c7172"
            }
          },
          "metadata": {}
        },
        {
          "output_type": "display_data",
          "data": {
            "text/plain": [
              "Generating train split:   0%|          | 0/22971 [00:00<?, ? examples/s]"
            ],
            "application/vnd.jupyter.widget-view+json": {
              "version_major": 2,
              "version_minor": 0,
              "model_id": "822aadb4ab734541b8a48e71ee8135f2"
            }
          },
          "metadata": {}
        }
      ]
    },
    {
      "cell_type": "code",
      "source": [
        "from PIL import Image\n"
      ],
      "metadata": {
        "id": "NNlu65FEvtpK"
      },
      "execution_count": null,
      "outputs": []
    },
    {
      "cell_type": "code",
      "source": [
        "print(dataset['image'][0])"
      ],
      "metadata": {
        "id": "Dm-SFyMCwB0x",
        "colab": {
          "base_uri": "https://localhost:8080/"
        },
        "outputId": "0c397a45-ece2-4b07-a2b8-471387230976"
      },
      "execution_count": null,
      "outputs": [
        {
          "output_type": "stream",
          "name": "stdout",
          "text": [
            "<PIL.JpegImagePlugin.JpegImageFile image mode=RGB size=640x640 at 0x7A4B0C916CE0>\n"
          ]
        }
      ]
    },
    {
      "cell_type": "code",
      "source": [
        "import os\n",
        "from tqdm import tqdm\n",
        "\n",
        "# الدالة لحفظ الصور في مجلدات بناءً على التصنيف\n",
        "def save_images_to_folders(dataset):\n",
        "    target_dirs = {\n",
        "        0: \"data/Mild\",\n",
        "        1: \"data/Moderate\",\n",
        "        2: \"data/No_DR\",\n",
        "        3: \"data/Proliferative_DR\",\n",
        "        4: \"data/Severe\"\n",
        "    }\n",
        "\n",
        "    # إنشاء المجلدات إذا لم تكن موجودة\n",
        "    for directory in target_dirs.values():\n",
        "        os.makedirs(directory, exist_ok=True)\n",
        "\n",
        "    # حفظ الصور في المجلدات بناءً على التصنيف مع شريط تقدم\n",
        "    for idx, (image, label) in enumerate(tqdm(zip(dataset['image'], dataset['label']), total=len(dataset['image']), desc=\"Saving images\")):\n",
        "        save_path = os.path.join(target_dirs[label], f\"image_{idx}.jpg\")\n",
        "        image.save(save_path)\n",
        "\n",
        "# مثال على استخدام الدالة\n"
      ],
      "metadata": {
        "id": "mxQA_9b_vOSM"
      },
      "execution_count": null,
      "outputs": []
    },
    {
      "cell_type": "code",
      "source": [
        "save_images_to_folders(dataset)\n"
      ],
      "metadata": {
        "colab": {
          "base_uri": "https://localhost:8080/"
        },
        "id": "vyoXSlQK3okR",
        "outputId": "283cf2a7-0a48-4b28-bb0e-18ce8b3ef47f"
      },
      "execution_count": null,
      "outputs": [
        {
          "output_type": "stream",
          "name": "stderr",
          "text": [
            "Saving images: 100%|██████████| 22971/22971 [00:46<00:00, 492.20it/s]\n"
          ]
        }
      ]
    },
    {
      "cell_type": "code",
      "source": [
        "!pip install roboflow\n"
      ],
      "metadata": {
        "id": "gY036xL0827F"
      },
      "execution_count": null,
      "outputs": []
    },
    {
      "cell_type": "code",
      "source": [
        "\n",
        "from roboflow import Roboflow\n",
        "rf = Roboflow(api_key=\"ItXgPAZWt0DYyYfbUnic\")\n",
        "project = rf.workspace(\"roboflow-universe-projects\").project(\"banana-ripeness-classification\")\n",
        "version = project.version(4)\n",
        "dataset = version.download(\"folder\")\n"
      ],
      "metadata": {
        "colab": {
          "base_uri": "https://localhost:8080/"
        },
        "id": "B2GpIxep810n",
        "outputId": "57d7599d-4a90-4e9a-df55-bb36f29aec7b"
      },
      "execution_count": null,
      "outputs": [
        {
          "output_type": "stream",
          "name": "stdout",
          "text": [
            "loading Roboflow workspace...\n",
            "loading Roboflow project...\n"
          ]
        },
        {
          "output_type": "stream",
          "name": "stderr",
          "text": [
            "Downloading Dataset Version Zip in Banana-Ripeness-Classification-4 to folder:: 100%|██████████| 226388/226388 [00:10<00:00, 22422.80it/s]"
          ]
        },
        {
          "output_type": "stream",
          "name": "stdout",
          "text": [
            "\n"
          ]
        },
        {
          "output_type": "stream",
          "name": "stderr",
          "text": [
            "\n",
            "Extracting Dataset Version Zip to Banana-Ripeness-Classification-4 in folder:: 100%|██████████| 13495/13495 [00:01<00:00, 7778.44it/s]\n"
          ]
        }
      ]
    },
    {
      "cell_type": "code",
      "source": [
        "import os\n",
        "\n",
        "len(os.listdir('/content/newdataset/class1'))"
      ],
      "metadata": {
        "colab": {
          "base_uri": "https://localhost:8080/"
        },
        "id": "zzFZB7Lm9n78",
        "outputId": "cd687977-ea42-4ce3-e1ea-bf8aa01989f8"
      },
      "execution_count": null,
      "outputs": [
        {
          "output_type": "execute_result",
          "data": {
            "text/plain": [
              "315"
            ]
          },
          "metadata": {},
          "execution_count": 23
        }
      ]
    },
    {
      "cell_type": "code",
      "source": [
        "!cat /content/drive/MyDrive/entrnal/DDR_dataset/DDR-dataset.zip.001 /content/drive/MyDrive/entrnal/DDR_dataset/DDR-dataset.zip.002 /content/drive/MyDrive/entrnal/DDR_dataset/DDR-dataset.zip.003 /content/drive/MyDrive/entrnal/DDR_dataset/DDR-dataset.zip.004 /content/drive/MyDrive/entrnal/DDR_dataset/DDR-dataset.zip.005 /content/drive/MyDrive/entrnal/DDR_dataset/DDR-dataset.zip.006 /content/drive/MyDrive/entrnal/DDR_dataset/DDR-dataset.zip.007 /content/drive/MyDrive/entrnal/DDR_dataset/DDR-dataset.zip.008 /content/drive/MyDrive/entrnal/DDR_dataset/DDR-dataset.zip.009 /content/drive/MyDrive/entrnal/DDR_dataset/DDR-dataset.zip.010 > DDR-dataset.zip"
      ],
      "metadata": {
        "id": "yc10H-HW-VPU"
      },
      "execution_count": null,
      "outputs": []
    },
    {
      "cell_type": "code",
      "source": [
        "!unzip DDR-dataset.zip"
      ],
      "metadata": {
        "id": "hn0mLe1dKD-S"
      },
      "execution_count": null,
      "outputs": []
    },
    {
      "cell_type": "code",
      "source": [
        "# قراءة البيانات من الملف وحساب عدد الصور لكل تصنيف\n",
        "def count_classifications(file_path):\n",
        "    # إنشاء قاموس لحفظ العد لكل تصنيف\n",
        "    class_counts = {i: 0 for i in range(6)}\n",
        "\n",
        "    # فتح الملف وقراءته\n",
        "    with open(file_path, 'r') as file:\n",
        "        lines = file.readlines()\n",
        "\n",
        "    # المرور على كل سطر وحساب التصنيفات\n",
        "    for line in lines:\n",
        "        image_name, classification = line.strip().split()\n",
        "        classification = int(classification)\n",
        "\n",
        "        # تحديث العد للتصنيف\n",
        "        if classification in class_counts:\n",
        "            class_counts[classification] += 1\n",
        "\n",
        "    return class_counts\n",
        "\n",
        "\n"
      ],
      "metadata": {
        "id": "SLH4S99UMAJz"
      },
      "execution_count": null,
      "outputs": []
    },
    {
      "cell_type": "code",
      "source": [
        "# المسار إلى ملف الـ txt\n",
        "file_path = '/content/ddr_dataset/DDR-dataset/DR_grading/train.txt'\n",
        "\n",
        "# حساب عدد الصور لكل تصنيف\n",
        "class_counts = count_classifications(file_path)\n",
        "\n",
        "# طباعة النتائج\n",
        "for classification, count in class_counts.items():\n",
        "    print(f\"التصنيف {classification}: {count} صور\")\n"
      ],
      "metadata": {
        "colab": {
          "base_uri": "https://localhost:8080/"
        },
        "id": "x3tLgEWcMBJq",
        "outputId": "5fcf5fad-0b95-4a5b-a695-acd2527534f8"
      },
      "execution_count": null,
      "outputs": [
        {
          "output_type": "stream",
          "name": "stdout",
          "text": [
            "التصنيف 0: 3133 صور\n",
            "التصنيف 1: 315 صور\n",
            "التصنيف 2: 2238 صور\n",
            "التصنيف 3: 118 صور\n",
            "التصنيف 4: 456 صور\n",
            "التصنيف 5: 575 صور\n",
            "التصنيف 6: 0 صور\n"
          ]
        }
      ]
    },
    {
      "cell_type": "code",
      "source": [
        "import os\n",
        "import shutil\n",
        "\n",
        "# مسار المجلد الرئيسي الذي يحتوي على الصور\n",
        "# مسار المجلد الرئيسي الذي يحتوي على الصور\n",
        "image_dir = '/content/ddr_dataset/DDR-dataset/DR_grading/valid'\n",
        "\n",
        "# مسار ملف التصنيفات\n",
        "label_file = '/content/ddr_dataset/DDR-dataset/DR_grading/valid.txt'\n",
        "\n",
        "# مسار المجلد الجديد الذي سيتم تخزين الصور المصنفة فيه\n",
        "output_dir = 'newdataset2/valid'\n",
        "\n",
        "# إنشاء مجلدات التصنيفات (من 0 إلى 5)\n",
        "for i in range(6):\n",
        "    os.makedirs(os.path.join(output_dir, f'class{i}'), exist_ok=True)\n",
        "\n",
        "# عداد لتتبع عدد الصور المنسوخة\n",
        "counter = 0\n",
        "\n",
        "# قراءة ملف التصنيفات\n",
        "with open(label_file, 'r') as f:\n",
        "    for line in f:\n",
        "        image_name, label = line.strip().split()\n",
        "        label = int(label)\n",
        "\n",
        "        # مسار الصورة الأصلية\n",
        "        src_path = os.path.join(image_dir, image_name)\n",
        "\n",
        "        # مسار مجلد التصنيف\n",
        "        dst_dir = os.path.join(output_dir, f'class{label}')\n",
        "\n",
        "        # نسخ الصورة إلى مجلد التصنيف\n",
        "        if os.path.exists(src_path):\n",
        "            shutil.copy(src_path, dst_dir)\n",
        "            counter += 1\n",
        "            # طباعة عداد التقدم كل 100 صورة\n",
        "            if counter % 100 == 0:\n",
        "                print(f\"تم نسخ {counter} صورة.\")\n",
        "        else:\n",
        "            print(f\"الصورة {image_name} غير موجودة في المجلد {image_dir}\")\n",
        "\n",
        "print(f\"العملية اكتملت. تم نسخ {counter} صورة.\")\n"
      ],
      "metadata": {
        "id": "L87orGO-QMAD"
      },
      "execution_count": null,
      "outputs": []
    },
    {
      "cell_type": "code",
      "source": [
        "import os\n",
        "import shutil\n",
        "from PIL import Image\n",
        "\n",
        "# مسار المجلد الرئيسي الذي يحتوي على الصور\n",
        "image_dir = '/content/DDR-dataset/DR_grading/train'\n",
        "\n",
        "# مسار ملف التصنيفات\n",
        "label_file = '/content/DDR-dataset/DR_grading/train.txt'\n",
        "\n",
        "# مسار المجلد الجديد الذي سيتم تخزين الصور المصنفة فيه\n",
        "output_dir = 'newdataset2/train'\n",
        "\n",
        "# إنشاء مجلدات التصنيفات (من 0 إلى 5)\n",
        "for i in range(6):\n",
        "    os.makedirs(os.path.join(output_dir, f'class{i}'), exist_ok=True)\n",
        "\n",
        "# عداد لتتبع عدد الصور المنسوخة\n",
        "counter = 0\n",
        "\n",
        "# قراءة ملف التصنيفات\n",
        "with open(label_file, 'r') as f:\n",
        "    for line in f:\n",
        "        image_name, label = line.strip().split()\n",
        "        label = int(label)\n",
        "\n",
        "        # مسار الصورة الأصلية\n",
        "        src_path = os.path.join(image_dir, image_name)\n",
        "\n",
        "        # مسار مجلد التصنيف\n",
        "        dst_dir = os.path.join(output_dir, f'class{label}')\n",
        "\n",
        "        # مسار الصورة الجديدة بعد تغيير الحجم\n",
        "        dst_path = os.path.join(dst_dir, image_name)\n",
        "\n",
        "        # نسخ الصورة إلى مجلد التصنيف مع تغيير الحجم\n",
        "        if os.path.exists(src_path):\n",
        "            # فتح الصورة وتغيير حجمها\n",
        "            with Image.open(src_path) as img:\n",
        "                img_resized = img.resize((640, 640))\n",
        "                img_resized.save(dst_path)\n",
        "\n",
        "            counter += 1\n",
        "            # طباعة عداد التقدم كل 100 صورة\n",
        "            if counter % 100 == 0:\n",
        "                print(f\"تم نسخ {counter} صورة.\")\n",
        "        else:\n",
        "            print(f\"الصورة {image_name} غير موجودة في المجلد {image_dir}\")\n",
        "\n",
        "print(f\"العملية اكتملت. تم نسخ {counter} صورة.\")\n"
      ],
      "metadata": {
        "colab": {
          "base_uri": "https://localhost:8080/"
        },
        "id": "v2zbJgcmUEP1",
        "outputId": "029b501a-dbe4-4197-a687-93ff9dc822ba"
      },
      "execution_count": null,
      "outputs": [
        {
          "output_type": "stream",
          "name": "stdout",
          "text": [
            "تم نسخ 100 صورة.\n",
            "تم نسخ 200 صورة.\n",
            "تم نسخ 300 صورة.\n",
            "تم نسخ 400 صورة.\n",
            "تم نسخ 500 صورة.\n",
            "تم نسخ 600 صورة.\n",
            "تم نسخ 700 صورة.\n",
            "تم نسخ 800 صورة.\n",
            "تم نسخ 900 صورة.\n",
            "تم نسخ 1000 صورة.\n",
            "تم نسخ 1100 صورة.\n",
            "تم نسخ 1200 صورة.\n",
            "تم نسخ 1300 صورة.\n",
            "تم نسخ 1400 صورة.\n",
            "تم نسخ 1500 صورة.\n",
            "تم نسخ 1600 صورة.\n",
            "تم نسخ 1700 صورة.\n",
            "تم نسخ 1800 صورة.\n"
          ]
        }
      ]
    },
    {
      "cell_type": "code",
      "source": [
        "!pip install roboflow\n",
        "\n",
        "from roboflow import Roboflow\n",
        "rf = Roboflow(api_key=\"ItXgPAZWt0DYyYfbUnic\")\n",
        "project = rf.workspace(\"myworkspace-v6ba0\").project(\"entrnalclassificrion\")\n",
        "version = project.version(1)\n",
        "dataset = version.download(\"folder\")\n"
      ],
      "metadata": {
        "id": "6yZRxc3sSC8z"
      },
      "execution_count": null,
      "outputs": []
    },
    {
      "cell_type": "code",
      "source": [
        "rf = Roboflow(api_key='ItXgPAZWt0DYyYfbUnic')\n",
        "\n",
        "# get a workspace\n",
        "workspace = rf.workspace(\"myworkspace-v6ba0\")\n",
        "\n",
        "# Upload data set to a new/existing project\n",
        "workspace.upload_dataset(\n",
        "    \"/content/entrnalclassificrion\", # This is your dataset path\n",
        "    \"entrnalclassificrion\", # This will either create or get a dataset with the given ID\n",
        "    num_workers=10,\n",
        "\n",
        "    project_type=\"single-label-classification\",\n",
        "    batch_name=None,\n",
        "    num_retries=0\n",
        ")"
      ],
      "metadata": {
        "id": "aKL37SoGSbNZ"
      },
      "execution_count": null,
      "outputs": []
    },
    {
      "cell_type": "code",
      "source": [
        "\n",
        "from roboflow import Roboflow\n",
        "rf = Roboflow(api_key=\"ItXgPAZWt0DYyYfbUnic\")\n",
        "project = rf.workspace(\"roboflow-universe-projects\").project(\"banana-ripeness-classification\")\n",
        "version = project.version(4)\n",
        "dataset = version.download(\"clip\")\n"
      ],
      "metadata": {
        "colab": {
          "base_uri": "https://localhost:8080/"
        },
        "id": "eKb4UMDDUmrD",
        "outputId": "1f081db6-ffa2-4eb2-93d8-7e355d4198ce"
      },
      "execution_count": null,
      "outputs": [
        {
          "output_type": "stream",
          "name": "stdout",
          "text": [
            "loading Roboflow workspace...\n",
            "loading Roboflow project...\n"
          ]
        },
        {
          "output_type": "stream",
          "name": "stderr",
          "text": [
            "Downloading Dataset Version Zip in Banana-Ripeness-Classification-4 to clip:: 100%|██████████| 226391/226391 [00:05<00:00, 45081.69it/s]"
          ]
        },
        {
          "output_type": "stream",
          "name": "stdout",
          "text": [
            "\n"
          ]
        },
        {
          "output_type": "stream",
          "name": "stderr",
          "text": [
            "\n",
            "Extracting Dataset Version Zip to Banana-Ripeness-Classification-4 in clip:: 100%|██████████| 13498/13498 [00:01<00:00, 8018.72it/s]\n"
          ]
        }
      ]
    },
    {
      "cell_type": "code",
      "source": [
        "import os\n",
        "import shutil\n",
        "def coppp(sors , des):\n",
        "  if not os.path.exists(des):\n",
        "    os.makedirs(des)\n",
        "\n",
        "  for i in os.listdir(sors):\n",
        "\n",
        "    folder = os.path.join(sors,i)\n",
        "\n",
        "    for j in os.listdir(folder):\n",
        "\n",
        "      path1 = os.path.join(folder,j)\n",
        "      path2 = f'{des}/{j}'\n",
        "\n",
        "      shutil.copy(path1,path2)"
      ],
      "metadata": {
        "id": "lTXz5KgvfXJp"
      },
      "execution_count": null,
      "outputs": []
    },
    {
      "cell_type": "code",
      "source": [
        "coppp('/content/entrnalclassificrion/valid','/content/datasset/valid/images')"
      ],
      "metadata": {
        "id": "f4cNvh0cgmor"
      },
      "execution_count": null,
      "outputs": []
    },
    {
      "cell_type": "code",
      "source": [
        "import os\n",
        "\n",
        "def create_txt_files(input_file_path, output_folder_path):\n",
        "    # قراءة محتوى الملف test.txt\n",
        "    with open(input_file_path, 'r') as f:\n",
        "        lines = f.readlines()\n",
        "\n",
        "    # التأكد من وجود المجلد الوجهة، وإذا لم يكن موجودًا يتم إنشاؤه\n",
        "    if not os.path.exists(output_folder_path):\n",
        "        os.makedirs(output_folder_path)\n",
        "\n",
        "    # المرور على كل سطر في الملف\n",
        "    for line in lines:\n",
        "        # تقسيم السطر إلى اسم الصورة والتصنيف\n",
        "        image_name, classification = line.strip().split()\n",
        "\n",
        "        # إنشاء ملف txt لكل صورة داخل المجلد المحدد\n",
        "        output_filename = os.path.join(output_folder_path, f\"{image_name.split('.')[0]}.txt\")\n",
        "\n",
        "        # كتابة التصنيف مع القيم الثابتة إلى الملف\n",
        "        with open(output_filename, 'w') as out_file:\n",
        "            out_file.write(f\"{classification} 0.5 0.5 1 1\\n\")\n",
        "\n",
        "    print(f\"تم إنشاء الملفات بنجاح في المجلد: {output_folder_path}\")\n",
        "\n",
        "# مثال على كيفية استخدام الدالة\n"
      ],
      "metadata": {
        "id": "OxvtAl9Ui_Z7"
      },
      "execution_count": null,
      "outputs": []
    },
    {
      "cell_type": "code",
      "source": [
        "create_txt_files('/content/DDR-dataset/DR_grading/valid.txt', '/content/datasset/valid/labels')\n"
      ],
      "metadata": {
        "colab": {
          "base_uri": "https://localhost:8080/"
        },
        "id": "sAARLCv1jBYA",
        "outputId": "9ba8a3f8-ee8b-4462-d232-cb8dfa92f246"
      },
      "execution_count": null,
      "outputs": [
        {
          "output_type": "stream",
          "name": "stdout",
          "text": [
            "تم إنشاء الملفات بنجاح في المجلد: /content/datasset/valid/labels\n"
          ]
        }
      ]
    }
  ]
}